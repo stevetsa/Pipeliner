{
 "cells": [
  {
   "cell_type": "code",
   "execution_count": 1,
   "metadata": {},
   "outputs": [
    {
     "name": "stderr",
     "output_type": "stream",
     "text": [
      "Updating HTML index of packages in '.Library'\n",
      "Making 'packages.html' ... done\n"
     ]
    }
   ],
   "source": [
    "install.packages(\"reticulate\")\n",
    "library(reticulate)"
   ]
  },
  {
   "cell_type": "code",
   "execution_count": null,
   "metadata": {},
   "outputs": [],
   "source": [
    "#system(\"wget https://github.com/stevetsa/Pipeliner/blob/master/Results-template/Scripts/heatmap.md\")"
   ]
  },
  {
   "cell_type": "code",
   "execution_count": 2,
   "metadata": {},
   "outputs": [],
   "source": [
    "library(reticulate)\n",
    "#py_install(\"pandas\")\n",
    "#create environment\n",
    "#conda_create(\"env\")\n",
    "# install SciPy\n",
    "conda_install(\"env\", \"python=3.6\")\n"
   ]
  },
  {
   "cell_type": "code",
   "execution_count": 3,
   "metadata": {},
   "outputs": [
    {
     "name": "stderr",
     "output_type": "stream",
     "text": [
      "also installing the dependencies ‘modeltools’, ‘mclust’, ‘flexmix’, ‘prabclus’, ‘diptest’, ‘mvtnorm’, ‘trimcluster’, ‘fpc’, ‘TSP’, ‘qap’, ‘gclus’, ‘dendextend’, ‘registry’, ‘heatmap.plus’, ‘seriation’, ‘gapmap’, ‘proto’, ‘findpython’\n",
      "\n",
      "Updating HTML index of packages in '.Library'\n",
      "Making 'packages.html' ... done\n"
     ]
    }
   ],
   "source": [
    "install.packages(c(\"dendsort\", \"argparse\"), dependencies=TRUE)"
   ]
  },
  {
   "cell_type": "code",
   "execution_count": 4,
   "metadata": {},
   "outputs": [
    {
     "name": "stderr",
     "output_type": "stream",
     "text": [
      "Loading tidyverse: ggplot2\n",
      "Loading tidyverse: tibble\n",
      "Loading tidyverse: tidyr\n",
      "Loading tidyverse: readr\n",
      "Loading tidyverse: purrr\n",
      "Loading tidyverse: dplyr\n",
      "Conflicts with tidy packages ---------------------------------------------------\n",
      "filter(): dplyr, stats\n",
      "lag():    dplyr, stats\n"
     ]
    }
   ],
   "source": [
    "rm(list=ls())\n",
    "\n",
    "library(colorspace)\n",
    "library(dendsort)\n",
    "library(pheatmap)\n",
    "library(tidyverse)\n",
    "library(RColorBrewer)\n",
    "library(argparse)\n",
    "\n"
   ]
  },
  {
   "cell_type": "code",
   "execution_count": 5,
   "metadata": {},
   "outputs": [],
   "source": [
    "pal=function (n, h = c(237, 43), c = 100, l = c(70, 90), power = 1, \n",
    "              fixup = TRUE, gamma = NULL, alpha = 1, ...) \n",
    "{\n",
    "  if (!is.null(gamma)) \n",
    "    warning(\"'gamma' is deprecated and has no effect\")\n",
    "  if (n < 1L) \n",
    "    return(character(0L))\n",
    "  h <- rep(h, length.out = 2L)\n",
    "  c <- c[1L]\n",
    "  l <- rep(l, length.out = 2L)\n",
    "  power <- rep(power, length.out = 2L)\n",
    "  rval <- seq(1, -1, length = n)\n",
    "  rval <- hex(polarLUV(L = l[2L] - diff(l) * abs(rval)^power[2L], \n",
    "                       C = c * abs(rval)^power[1L], H = ifelse(rval > 0, h[1L], \n",
    "                                                               h[2L])), fixup = fixup, ...)\n",
    "  if (!missing(alpha)) {\n",
    "    alpha <- pmax(pmin(alpha, 1), 0)\n",
    "    alpha <- format(as.hexmode(round(alpha * 255 + 1e-04)), \n",
    "                    width = 2L, upper.case = TRUE)\n",
    "    rval <- paste(rval, alpha, sep = \"\")\n",
    "  }\n",
    "  return(rval)\n",
    "}\n",
    "#Color selections for heatmap:\n",
    "np0=pal(100)\n",
    "np1=diverge_hcl(100, c = 100, l = c(30, 80), power = 1)  #Blue to Red\n",
    "np2=heat_hcl(100, c = c(80, 30), l = c(30, 90), power = c(1/5, 2))  #Red to Vanilla\n",
    "np3=rev(heat_hcl(100, h = c(0, -100), c = c(40, 80), l = c(75, 40), power = 1)) #Violet to Pink\n",
    "np4=colorRampPalette(brewer.pal(10, \"RdYlBu\"))(100)\n",
    "\n",
    "np=list(np0,np1,np2,np3,np4)\n",
    "names(np) = c(\"Default\",\"Blue to Red\",\"Red to Vanilla\",\"Violet to Pink\",\"Rd Yl Bu\")\n"
   ]
  },
  {
   "cell_type": "code",
   "execution_count": 6,
   "metadata": {},
   "outputs": [],
   "source": [
    "df.orig=read.table(\"/sbgenomics/project-files/Genesets_heatmap.csv\", header=TRUE, sep=\",\")\n",
    "#rowid <- as.character(args$row_id)\n",
    "rowid <- \"Geneset\"\n",
    "df.orig %>% group_by(!!as.name(rowid)) %>% summarise_all(funs(mean)) -> df\n",
    "#print(df)\n",
    "#print(df[, rowid])\n",
    "#print(colnames(df))\n",
    "df.mat = data.frame(df, row.names=rowid)\n",
    "#print(dim(df))\n",
    "#print(dim(df.mat))\n",
    "##rownames(df.mat) <- as.character(df[, args$row_id]) \n",
    "#print(row.names(df.mat))\n",
    "#print(head(df.mat))\n",
    "dat<-df.mat"
   ]
  },
  {
   "cell_type": "code",
   "execution_count": 7,
   "metadata": {},
   "outputs": [],
   "source": [
    "z_scale<-\"FALSE\"\n",
    "flip_color<-\"TRUE\"\n",
    "distance_method<-\"correlation\"\n",
    "breaks<-\"TRUE\"\n",
    "flip_dendrogram<-\"TRUE\"\n",
    "column_width<-10\n",
    "row_height<-4\n",
    "minimum<--1\n",
    "maximum<-1\n",
    "tree_height_column<-50\n",
    "tree_height_row<-50\n",
    "image_height<-2000\n",
    "row_font<-4\n",
    "clustering_method<-\"complete\"\n",
    "\n",
    "png(\"heatmap.png\")\n",
    "clus<-\"FALSE\"\n",
    "clus2<-\"TRUE\"\n",
    "#ht=10\n",
    "#rn<-\"TRUE\"\n",
    "#cn<-\"TRUE\"\n",
    "col<-\"Rd Yl Bu\"\n",
    "\n",
    "if (z_scale){\n",
    "    tmean.scale=t(scale(t(dat)))\n",
    "} else {\n",
    "    tmean.scale=dat\n",
    "  }\n",
    "  #colnames(tmean.scale)=colnames(dat)\n",
    "col.pal <- np[[col]]\n",
    "  \n",
    "if (flip_color){\n",
    "    col.pal=rev(col.pal)\n",
    "}\n",
    "\n",
    "drows1 <- distance_method\n",
    "dcols1 <- distance_method\n",
    "minx=min(tmean.scale)\n",
    "maxx=max(tmean.scale)\n",
    "\n",
    "if (breaks){\n",
    "    breaks=seq(minx,maxx,length=100)\n",
    "    legbreaks=seq(minx,maxx,length=5)\n",
    "} else {\n",
    "    absmax = ceiling(max(abs(c(minx,maxx))))\n",
    "    #tmean.scale %>% as.data.frame %>% \n",
    "    #  mutate_all(funs(ifelse(.>args$maximum, args$maximum, \n",
    "    #          (ifelse(.<args$minimum,args$minimum))))) -> tmean.scale\n",
    "    breaks=c(-1*absmax,seq(minimum,maximum,length=98),absmax)\n",
    "    #breaks=c(seq(args$minimum,args$maximum,length=100))\n",
    "    #legbreaks=c(-1*absmax,seq(args$minimum,args$maximum, length=3),absmax)}\n",
    "    legbreaks=c(-1*absmax,0, absmax)\n",
    "}\n",
    "\n",
    "hc=hclust(dist(t(tmean.scale)),method=\"average\")\n",
    "hcrow=hclust(dist(tmean.scale),method=\"average\")\n",
    "  #print ('clustered the things')\n",
    "if (flip_dendrogram){\n",
    "    sort_hclust <- function(...) as.hclust(rev(dendsort(as.dendrogram(...))))\n",
    "    } else {\n",
    "      sort_hclust <- function(...) as.hclust(dendsort(as.dendrogram(...)))\n",
    "    }\n",
    "  \n",
    "if (clus2){\n",
    "    rowclus <- sort_hclust(hcrow)\n",
    "} else {rowclus = FALSE\n",
    "       }\n",
    "\n"
   ]
  },
  {
   "cell_type": "code",
   "execution_count": 8,
   "metadata": {},
   "outputs": [
    {
     "data": {
      "text/html": [
       "<strong>png:</strong> 2"
      ],
      "text/latex": [
       "\\textbf{png:} 2"
      ],
      "text/markdown": [
       "**png:** 2"
      ],
      "text/plain": [
       "png \n",
       "  2 "
      ]
     },
     "metadata": {},
     "output_type": "display_data"
    }
   ],
   "source": [
    "\n",
    "#png(\"heatmap.png\", height = , width = 8, units  = \"in\", res=1200, pointsize = 4)\n",
    "png(\"heatmap.png\", height = 6, width = 6, units  = \"in\", res=600)\n",
    "#ggsave( \"ggtest.png\", width = 3.25, height = 3.25, dpi = 1200)\n",
    "\n",
    "p=pheatmap(df.mat,color = col.pal, height=10000, legend_breaks = legbreaks, fontsize_row =8, treeheight_col = 10, treeheight_row =10,  show_rownames =TRUE, \n",
    "                        cellwidth = column_width, \n",
    "                        cellheight = row_height, \n",
    "                        scale = \"none\",\n",
    "                        kmeans_k = NA,\n",
    "                        breaks=breaks,\n",
    "                        clustering_method = clustering_method,\n",
    "            #            cluster_rows = rowclus, \n",
    "            #            cluster_cols = clus,\n",
    "                        cutree_rows = 1,\n",
    "                        clustering_distance_rows = drows1, \n",
    "                        clustering_distance_cols = dcols1,\n",
    "                        cex = 0.65\n",
    "          )\n",
    "dev.off()\n",
    "\n",
    "#if(clus2 == \"TRUE\"){\n",
    "# print(row.names(df)[p$tree_row$order])\n",
    "#}"
   ]
  },
  {
   "cell_type": "code",
   "execution_count": null,
   "metadata": {},
   "outputs": [],
   "source": []
  },
  {
   "cell_type": "code",
   "execution_count": null,
   "metadata": {},
   "outputs": [],
   "source": []
  }
 ],
 "metadata": {
  "kernelspec": {
   "display_name": "R",
   "language": "R",
   "name": "ir"
  },
  "language_info": {
   "codemirror_mode": "r",
   "file_extension": ".r",
   "mimetype": "text/x-r-source",
   "name": "R",
   "pygments_lexer": "r",
   "version": "3.4.1"
  }
 },
 "nbformat": 4,
 "nbformat_minor": 2
}
