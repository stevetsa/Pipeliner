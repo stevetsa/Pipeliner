{
 "cells": [
  {
   "cell_type": "code",
   "execution_count": 1,
   "metadata": {},
   "outputs": [
    {
     "name": "stderr",
     "output_type": "stream",
     "text": [
      "── Attaching packages ─────────────────────────────────────── tidyverse 1.2.1 ──\n",
      "✔ ggplot2 2.2.1     ✔ purrr   0.2.4\n",
      "✔ tibble  1.4.2     ✔ dplyr   0.7.4\n",
      "✔ tidyr   0.8.0     ✔ stringr 1.3.1\n",
      "✔ readr   1.1.1     ✔ forcats 0.2.0\n",
      "── Conflicts ────────────────────────────────────────── tidyverse_conflicts() ──\n",
      "✖ dplyr::filter() masks stats::filter()\n",
      "✖ dplyr::lag()    masks stats::lag()\n"
     ]
    }
   ],
   "source": [
    "rm(list=ls())\n",
    "\n",
    "library(colorspace)\n",
    "library(dendsort)\n",
    "library(pheatmap)\n",
    "library(tidyverse)\n",
    "library(RColorBrewer)\n",
    "library(argparse)\n",
    "\n"
   ]
  },
  {
   "cell_type": "code",
   "execution_count": 2,
   "metadata": {},
   "outputs": [],
   "source": [
    "pal=function (n, h = c(237, 43), c = 100, l = c(70, 90), power = 1, \n",
    "              fixup = TRUE, gamma = NULL, alpha = 1, ...) \n",
    "{\n",
    "  if (!is.null(gamma)) \n",
    "    warning(\"'gamma' is deprecated and has no effect\")\n",
    "  if (n < 1L) \n",
    "    return(character(0L))\n",
    "  h <- rep(h, length.out = 2L)\n",
    "  c <- c[1L]\n",
    "  l <- rep(l, length.out = 2L)\n",
    "  power <- rep(power, length.out = 2L)\n",
    "  rval <- seq(1, -1, length = n)\n",
    "  rval <- hex(polarLUV(L = l[2L] - diff(l) * abs(rval)^power[2L], \n",
    "                       C = c * abs(rval)^power[1L], H = ifelse(rval > 0, h[1L], \n",
    "                                                               h[2L])), fixup = fixup, ...)\n",
    "  if (!missing(alpha)) {\n",
    "    alpha <- pmax(pmin(alpha, 1), 0)\n",
    "    alpha <- format(as.hexmode(round(alpha * 255 + 1e-04)), \n",
    "                    width = 2L, upper.case = TRUE)\n",
    "    rval <- paste(rval, alpha, sep = \"\")\n",
    "  }\n",
    "  return(rval)\n",
    "}\n",
    "#Color selections for heatmap:\n",
    "np0=pal(100)\n",
    "np1=diverge_hcl(100, c = 100, l = c(30, 80), power = 1)  #Blue to Red\n",
    "np2=heat_hcl(100, c = c(80, 30), l = c(30, 90), power = c(1/5, 2))  #Red to Vanilla\n",
    "np3=rev(heat_hcl(100, h = c(0, -100), c = c(40, 80), l = c(75, 40), power = 1)) #Violet to Pink\n",
    "np4=colorRampPalette(brewer.pal(10, \"RdYlBu\"))(100)\n",
    "\n",
    "np=list(np0,np1,np2,np3,np4)\n",
    "names(np) = c(\"Default\",\"Blue to Red\",\"Red to Vanilla\",\"Violet to Pink\",\"Rd Yl Bu\")\n"
   ]
  },
  {
   "cell_type": "code",
   "execution_count": 5,
   "metadata": {},
   "outputs": [],
   "source": [
    "df.orig=read.table(\"Genesets_heatmap.csv\", header=TRUE, sep=\",\")\n",
    "#rowid <- as.character(args$row_id)\n",
    "rowid <- \"Geneset\"\n",
    "df.orig %>% group_by(!!as.name(rowid)) %>% summarise_all(funs(mean)) -> df\n",
    "#print(df)\n",
    "#print(df[, rowid])\n",
    "#print(colnames(df))\n",
    "df.mat = data.frame(df, row.names=rowid)\n",
    "#print(dim(df))\n",
    "#print(dim(df.mat))\n",
    "##rownames(df.mat) <- as.character(df[, args$row_id]) \n",
    "#print(row.names(df.mat))\n",
    "#print(head(df.mat))\n",
    "dat<-df.mat"
   ]
  },
  {
   "cell_type": "code",
   "execution_count": 6,
   "metadata": {},
   "outputs": [],
   "source": [
    "z_scale<-\"FALSE\"\n",
    "flip_color<-\"TRUE\"\n",
    "distance_method<-\"correlation\"\n",
    "breaks<-\"TRUE\"\n",
    "flip_dendrogram<-\"TRUE\"\n",
    "column_width<-10\n",
    "row_height<-4\n",
    "minimum<--1\n",
    "maximum<-1\n",
    "tree_height_column<-50\n",
    "tree_height_row<-50\n",
    "image_height<-2000\n",
    "row_font<-4\n",
    "clustering_method<-\"complete\"\n",
    "\n",
    "png(\"heatmap.png\")\n",
    "clus<-\"FALSE\"\n",
    "clus2<-\"TRUE\"\n",
    "#ht=10\n",
    "#rn<-\"TRUE\"\n",
    "#cn<-\"TRUE\"\n",
    "col<-\"Rd Yl Bu\"\n",
    "\n",
    "if (z_scale){\n",
    "    tmean.scale=t(scale(t(dat)))\n",
    "} else {\n",
    "    tmean.scale=dat\n",
    "  }\n",
    "  #colnames(tmean.scale)=colnames(dat)\n",
    "col.pal <- np[[col]]\n",
    "  \n",
    "if (flip_color){\n",
    "    col.pal=rev(col.pal)\n",
    "}\n",
    "\n",
    "drows1 <- distance_method\n",
    "dcols1 <- distance_method\n",
    "minx=min(tmean.scale)\n",
    "maxx=max(tmean.scale)\n",
    "\n",
    "if (breaks){\n",
    "    breaks=seq(minx,maxx,length=100)\n",
    "    legbreaks=seq(minx,maxx,length=5)\n",
    "} else {\n",
    "    absmax = ceiling(max(abs(c(minx,maxx))))\n",
    "    breaks=c(-1*absmax,seq(minimum,maximum,length=98),absmax)\n",
    "    legbreaks=c(-1*absmax,0, absmax)\n",
    "}\n",
    "\n",
    "hc=hclust(dist(t(tmean.scale)),method=\"average\")\n",
    "hcrow=hclust(dist(tmean.scale),method=\"average\")\n",
    "  #print ('clustered the things')\n",
    "if (flip_dendrogram){\n",
    "    sort_hclust <- function(...) as.hclust(rev(dendsort(as.dendrogram(...))))\n",
    "    } else {\n",
    "      sort_hclust <- function(...) as.hclust(dendsort(as.dendrogram(...)))\n",
    "    }\n",
    "  \n",
    "if (clus2){\n",
    "    rowclus <- sort_hclust(hcrow)\n",
    "} else {rowclus = FALSE\n",
    "       }\n",
    "\n"
   ]
  },
  {
   "cell_type": "code",
   "execution_count": 14,
   "metadata": {},
   "outputs": [
    {
     "data": {
      "text/html": [
       "<strong>png:</strong> 2"
      ],
      "text/latex": [
       "\\textbf{png:} 2"
      ],
      "text/markdown": [
       "**png:** 2"
      ],
      "text/plain": [
       "png \n",
       "  2 "
      ]
     },
     "metadata": {},
     "output_type": "display_data"
    }
   ],
   "source": [
    "# If your heatmap is cutoff, modify height, width and cex below)\n",
    "png(\"heatmap.png\", height = 7, width = 6, units  = \"in\", res=600)\n",
    "\n",
    "\n",
    "p=pheatmap(df.mat,color = col.pal, \n",
    "           height=10000, \n",
    "           legend_breaks = legbreaks, \n",
    "           fontsize_row =8, \n",
    "           treeheight_col = 10, \n",
    "           treeheight_row =10,  \n",
    "           show_rownames =TRUE,\n",
    "           cellwidth = column_width, \n",
    "           cellheight = row_height,\n",
    "           scale = \"none\",\n",
    "           kmeans_k = NA,\n",
    "           breaks=breaks,\n",
    "           clustering_method = clustering_method,\n",
    "           #            cluster_rows = rowclus,\n",
    "           #            cluster_cols = clus,\n",
    "           cutree_rows = 1,\n",
    "           clustering_distance_rows = drows1,\n",
    "           clustering_distance_cols = dcols1,\n",
    "           cex = 0.55\n",
    "          )\n",
    "dev.off()"
   ]
  },
  {
   "cell_type": "code",
   "execution_count": null,
   "metadata": {},
   "outputs": [],
   "source": []
  },
  {
   "cell_type": "code",
   "execution_count": null,
   "metadata": {},
   "outputs": [],
   "source": []
  }
 ],
 "metadata": {
  "kernelspec": {
   "display_name": "R",
   "language": "R",
   "name": "ir"
  },
  "language_info": {
   "codemirror_mode": "r",
   "file_extension": ".r",
   "mimetype": "text/x-r-source",
   "name": "R",
   "pygments_lexer": "r",
   "version": "3.4.4"
  }
 },
 "nbformat": 4,
 "nbformat_minor": 2
}
